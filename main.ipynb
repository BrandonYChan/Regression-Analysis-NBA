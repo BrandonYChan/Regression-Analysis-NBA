{
 "cells": [
  {
   "cell_type": "code",
   "execution_count": 2,
   "metadata": {},
   "outputs": [],
   "source": [
    "import pandas as pd"
   ]
  },
  {
   "cell_type": "code",
   "execution_count": 7,
   "metadata": {},
   "outputs": [
    {
     "name": "stdout",
     "output_type": "stream",
     "text": [
      "   Rk   Season   Lg   Age   Ht     Wt     G     MP    FG   FGA    3P   3PA  \\\n",
      "0   2  2023-24  NBA  26.4  6-7  216.0  1230  241.4  42.2  88.9  12.8  35.1   \n",
      "1   3  2022-23  NBA  26.1  6-6  216.0  1230  241.8  42.0  88.3  12.3  34.2   \n",
      "2   4  2021-22  NBA  26.1  6-6  215.0  1230  241.4  40.6  88.1  12.4  35.2   \n",
      "3   5  2020-21  NBA  26.1  6-6  217.0  1080  241.4  41.2  88.4  12.7  34.6   \n",
      "4   6  2019-20  NBA  26.1  6-6  218.0  1059  241.8  40.9  88.8  12.2  34.1   \n",
      "\n",
      "     FT   FTA   ORB   DRB   TRB   AST  STL  BLK   TOV    PF    PTS    FG%  \\\n",
      "0  17.0  21.7  10.6  33.0  43.5  26.7  7.5  5.1  13.6  18.7  114.2  0.474   \n",
      "1  18.4  23.5  10.4  33.0  43.4  25.3  7.3  4.7  14.1  20.0  114.7  0.475   \n",
      "2  16.9  21.9  10.3  34.1  44.5  24.6  7.6  4.7  13.8  19.6  110.6  0.461   \n",
      "3  17.0  21.8   9.8  34.5  44.3  24.8  7.6  4.9  13.8  19.3  112.1  0.466   \n",
      "4  17.9  23.1  10.1  34.8  44.8  24.4  7.6  4.9  14.5  20.8  111.8  0.460   \n",
      "\n",
      "     3P%    FT%   Pace   eFG%  TOV%  ORB%  FT/FGA   ORtg    TS%  \n",
      "0  0.366  0.784   98.5  0.547  12.1  24.2   0.192  115.3  0.580  \n",
      "1  0.361  0.782   99.2  0.545  12.5  24.0   0.208  114.8  0.581  \n",
      "2  0.354  0.775   98.2  0.532  12.3  23.2   0.192  112.0  0.566  \n",
      "3  0.367  0.778   99.2  0.538  12.4  22.2   0.192  112.3  0.572  \n",
      "4  0.358  0.773  100.3  0.529  12.8  22.5   0.201  110.6  0.565  \n"
     ]
    }
   ],
   "source": [
    "csvfile = pd.read_csv('pergame_league.csv')\n",
    "pd.set_option('display.max_columns', None)\n",
    "print(csvfile.head(5))"
   ]
  },
  {
   "cell_type": "markdown",
   "metadata": {},
   "source": [
    "From the dataset, the variables are defined as follows:\n",
    "\n",
    "Rk (Rank): The sequential ranking of each season's data entry.\n",
    "\n",
    "Season: The specific NBA season (e.g., 2023-24).\n",
    "\n",
    "Lg (League): The basketball league, typically \"NBA\".\n",
    "\n",
    "Age: The average age of players in the league for that season.\n",
    "\n",
    "Ht (Height): The average height of players, typically represented in feet and inches.\n",
    "\n",
    "Wt (Weight): The average weight of players in pounds.\n",
    "\n",
    "G (Games): The total number of games played in the season.\n",
    "\n",
    "MP (Minutes Played): The average total minutes played per game by all teams combined.\n",
    "\n",
    "FG (Field Goals): The average number of field goals made per game.\n",
    "\n",
    "FGA (Field Goal Attempts): The average number of field goal attempts per game.\n",
    "\n",
    "3P (3-Point Field Goals): The average number of 3-point field goals made per game.\n",
    "\n",
    "3PA (3-Point Attempts): The average number of 3-point field goal attempts per game.\n",
    "\n",
    "FT (Free Throws): The average number of free throws made per game.\n",
    "\n",
    "FTA (Free Throw Attempts): The average number of free throw attempts per game.\n",
    "\n",
    "ORB (Offensive Rebounds): The average number of offensive rebounds per game.\n",
    "\n",
    "DRB (Defensive Rebounds): The average number of defensive rebounds per game.\n",
    "\n",
    "TRB (Total Rebounds): The average number of total rebounds (offensive + defensive) per game.\n",
    "\n",
    "AST (Assists): The average number of assists per game.\n",
    "\n",
    "STL (Steals): The average number of steals per game.\n",
    "\n",
    "BLK (Blocks): The average number of blocks per game.\n",
    "\n",
    "TOV (Turnovers): The average number of turnovers per game.\n",
    "\n",
    "PF (Personal Fouls): The average number of personal fouls per game.\n",
    "\n",
    "PTS (Points): The average total points scored per game.\n",
    "\n",
    "FG% (Field Goal Percentage): The shooting percentage for field goals (FG/FGA).\n",
    "\n",
    "3P% (3-Point Percentage): The shooting percentage for 3-point field goals (3P/3PA).\n",
    "\n",
    "FT% (Free Throw Percentage): The shooting percentage for free throws (FT/FTA).\n",
    "\n",
    "Pace: The average number of possessions per 48 minutes, indicating the speed of play.\n",
    "\n",
    "eFG% (Effective Field Goal Percentage): A shooting metric that adjusts for the higher value of 3-point shots, calculated as (FG + 0.5 * 3P) / FGA\n",
    "\n",
    "TOV% (Turnover Percentage): The percentage of possessions ending in turnovers.\n",
    "\n",
    "ORB% (Offensive Rebound Percentage): The percentage of available offensive rebounds a team secures.\n",
    "\n",
    "FT/FGA (Free Throw Attempts Per Field Goal Attempt): The ratio of free throw attempts to field goal attempts.\n",
    "\n",
    "ORtg (Offensive Rating): The number of points scored per 100 possessions.\n",
    "\n",
    "TS% (True Shooting Percentage): A measure of shooting efficiency that considers field goals, 3-point field goals, and free throws, calculated as PTS / (2 * (FGA + 0.44 * FTA))."
   ]
  },
  {
   "cell_type": "code",
   "execution_count": null,
   "metadata": {},
   "outputs": [],
   "source": []
  }
 ],
 "metadata": {
  "kernelspec": {
   "display_name": "Python 3",
   "language": "python",
   "name": "python3"
  },
  "language_info": {
   "codemirror_mode": {
    "name": "ipython",
    "version": 3
   },
   "file_extension": ".py",
   "mimetype": "text/x-python",
   "name": "python",
   "nbconvert_exporter": "python",
   "pygments_lexer": "ipython3",
   "version": "3.12.7"
  }
 },
 "nbformat": 4,
 "nbformat_minor": 2
}
